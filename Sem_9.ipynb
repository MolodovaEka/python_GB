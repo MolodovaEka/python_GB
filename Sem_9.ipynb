{
  "nbformat": 4,
  "nbformat_minor": 0,
  "metadata": {
    "colab": {
      "provenance": [],
      "authorship_tag": "ABX9TyPH/6FPCxpitAffIxYfPsjm",
      "include_colab_link": true
    },
    "kernelspec": {
      "name": "python3",
      "display_name": "Python 3"
    },
    "language_info": {
      "name": "python"
    }
  },
  "cells": [
    {
      "cell_type": "markdown",
      "metadata": {
        "id": "view-in-github",
        "colab_type": "text"
      },
      "source": [
        "<a href=\"https://colab.research.google.com/github/MolodovaEka/python_GB/blob/main/Sem_9.ipynb\" target=\"_parent\"><img src=\"https://colab.research.google.com/assets/colab-badge.svg\" alt=\"Open In Colab\"/></a>"
      ]
    },
    {
      "cell_type": "code",
      "execution_count": 4,
      "metadata": {
        "id": "pAfjEl5nXrRl"
      },
      "outputs": [],
      "source": [
        "import pandas as pd"
      ]
    },
    {
      "cell_type": "code",
      "source": [
        "df = pd.read_csv('sample_data/california_housing_train.csv')"
      ],
      "metadata": {
        "id": "ENQ8klRbYLd5"
      },
      "execution_count": 5,
      "outputs": []
    },
    {
      "cell_type": "code",
      "source": [
        "pop500 = df[df['population'] < 500]\n",
        "print(pop500)"
      ],
      "metadata": {
        "colab": {
          "base_uri": "https://localhost:8080/"
        },
        "id": "x1BnoDy_lLmZ",
        "outputId": "f3aeb26a-a484-4a97-aa96-847e0f49d300"
      },
      "execution_count": 36,
      "outputs": [
        {
          "output_type": "stream",
          "name": "stdout",
          "text": [
            "       longitude  latitude  housing_median_age  total_rooms  total_bedrooms  \\\n",
            "2        -114.56     33.69                17.0        720.0           174.0   \n",
            "7        -114.59     34.83                41.0        812.0           168.0   \n",
            "17       -114.65     32.79                21.0         44.0            33.0   \n",
            "19       -114.67     33.92                17.0         97.0            24.0   \n",
            "21       -114.73     33.43                24.0        796.0           243.0   \n",
            "...          ...       ...                 ...          ...             ...   \n",
            "16944    -124.14     40.67                23.0        580.0           117.0   \n",
            "16951    -124.15     40.81                50.0        340.0            74.0   \n",
            "16969    -124.17     40.80                52.0        661.0           316.0   \n",
            "16982    -124.18     40.62                35.0        952.0           178.0   \n",
            "16994    -124.25     40.28                32.0       1430.0           419.0   \n",
            "\n",
            "       population  households  median_income  median_house_value  \n",
            "2           333.0       117.0         1.6509             85700.0  \n",
            "7           375.0       158.0         1.7083             48500.0  \n",
            "17           64.0        27.0         0.8571             25000.0  \n",
            "19           29.0        15.0         1.2656             27500.0  \n",
            "21          227.0       139.0         0.8964             59200.0  \n",
            "...           ...         ...            ...                 ...  \n",
            "16944       320.0       109.0         4.2054            130600.0  \n",
            "16951       235.0        83.0         1.7500             67500.0  \n",
            "16969       392.0       244.0         0.9570             60000.0  \n",
            "16982       480.0       179.0         3.0536            107000.0  \n",
            "16994       434.0       187.0         1.9417             76100.0  \n",
            "\n",
            "[1601 rows x 9 columns]\n"
          ]
        }
      ]
    },
    {
      "cell_type": "code",
      "source": [
        "mean_house_price = pop500['median_house_value']\n",
        "print(mean_house_price)"
      ],
      "metadata": {
        "colab": {
          "base_uri": "https://localhost:8080/"
        },
        "id": "wBQa9ZXvrJYm",
        "outputId": "d3c030f4-feca-4740-c8e6-706391d1a46b"
      },
      "execution_count": 37,
      "outputs": [
        {
          "output_type": "stream",
          "name": "stdout",
          "text": [
            "2         85700.0\n",
            "7         48500.0\n",
            "17        25000.0\n",
            "19        27500.0\n",
            "21        59200.0\n",
            "           ...   \n",
            "16944    130600.0\n",
            "16951     67500.0\n",
            "16969     60000.0\n",
            "16982    107000.0\n",
            "16994     76100.0\n",
            "Name: median_house_value, Length: 1601, dtype: float64\n"
          ]
        }
      ]
    },
    {
      "cell_type": "code",
      "source": [
        "mean_house_price.mean()"
      ],
      "metadata": {
        "colab": {
          "base_uri": "https://localhost:8080/"
        },
        "id": "DoYKTOeDrqjB",
        "outputId": "958aadf0-7dbc-4184-a9ab-6c789457c38c"
      },
      "execution_count": 39,
      "outputs": [
        {
          "output_type": "execute_result",
          "data": {
            "text/plain": [
              "206683.83635227982"
            ]
          },
          "metadata": {},
          "execution_count": 39
        }
      ]
    },
    {
      "cell_type": "code",
      "source": [
        "min_pop = df[df['population'] == df['population'].min()]\n",
        "min_pop['households'].max()"
      ],
      "metadata": {
        "colab": {
          "base_uri": "https://localhost:8080/"
        },
        "id": "tGjRmVOXtcyz",
        "outputId": "fdc077c6-0f0c-4935-d0df-446e4cb95a2c"
      },
      "execution_count": 40,
      "outputs": [
        {
          "output_type": "execute_result",
          "data": {
            "text/plain": [
              "4.0"
            ]
          },
          "metadata": {},
          "execution_count": 40
        }
      ]
    }
  ]
}